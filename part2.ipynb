{
    "cells": [
        {
            "cell_type": "code",
            "execution_count": 1,
            "metadata": {},
            "outputs": [],
            "source": "import requests\nimport pandas as pd"
        },
        {
            "cell_type": "code",
            "execution_count": 2,
            "metadata": {},
            "outputs": [
                {
                    "data": {
                        "text/html": "<div>\n<style scoped>\n    .dataframe tbody tr th:only-of-type {\n        vertical-align: middle;\n    }\n\n    .dataframe tbody tr th {\n        vertical-align: top;\n    }\n\n    .dataframe thead th {\n        text-align: right;\n    }\n</style>\n<table border=\"1\" class=\"dataframe\">\n  <thead>\n    <tr style=\"text-align: right;\">\n      <th></th>\n      <th>Postal code</th>\n      <th>Borough</th>\n      <th>Neighborhood</th>\n    </tr>\n  </thead>\n  <tbody>\n    <tr>\n      <th>2</th>\n      <td>M3A</td>\n      <td>North York</td>\n      <td>Parkwoods</td>\n    </tr>\n    <tr>\n      <th>3</th>\n      <td>M4A</td>\n      <td>North York</td>\n      <td>Victoria Village</td>\n    </tr>\n    <tr>\n      <th>4</th>\n      <td>M5A</td>\n      <td>Downtown Toronto</td>\n      <td>Regent Park / Harbourfront</td>\n    </tr>\n    <tr>\n      <th>5</th>\n      <td>M6A</td>\n      <td>North York</td>\n      <td>Lawrence Manor / Lawrence Heights</td>\n    </tr>\n    <tr>\n      <th>6</th>\n      <td>M7A</td>\n      <td>Downtown Toronto</td>\n      <td>Queen's Park / Ontario Provincial Government</td>\n    </tr>\n  </tbody>\n</table>\n</div>",
                        "text/plain": "  Postal code           Borough                                  Neighborhood\n2         M3A        North York                                     Parkwoods\n3         M4A        North York                              Victoria Village\n4         M5A  Downtown Toronto                    Regent Park / Harbourfront\n5         M6A        North York             Lawrence Manor / Lawrence Heights\n6         M7A  Downtown Toronto  Queen's Park / Ontario Provincial Government"
                    },
                    "execution_count": 2,
                    "metadata": {},
                    "output_type": "execute_result"
                }
            ],
            "source": "wiki = 'https://en.wikipedia.org/wiki/List_of_postal_codes_of_Canada:_M'\nwikipedia_page = requests.get(wiki)\n\ndf_raw = pd.read_html(wikipedia_page.content, header=0)[0]\ndf_new = df_raw[df_raw.Borough != 'Not assigned']\n\ndf_new.head()"
        },
        {
            "cell_type": "code",
            "execution_count": 9,
            "metadata": {},
            "outputs": [
                {
                    "data": {
                        "text/html": "<div>\n<style scoped>\n    .dataframe tbody tr th:only-of-type {\n        vertical-align: middle;\n    }\n\n    .dataframe tbody tr th {\n        vertical-align: top;\n    }\n\n    .dataframe thead th {\n        text-align: right;\n    }\n</style>\n<table border=\"1\" class=\"dataframe\">\n  <thead>\n    <tr style=\"text-align: right;\">\n      <th></th>\n      <th>Postal code</th>\n      <th>Borough</th>\n      <th>Neighborhood</th>\n    </tr>\n  </thead>\n  <tbody>\n  </tbody>\n</table>\n</div>",
                        "text/plain": "Empty DataFrame\nColumns: [Postal code, Borough, Neighborhood]\nIndex: []"
                    },
                    "execution_count": 9,
                    "metadata": {},
                    "output_type": "execute_result"
                }
            ],
            "source": "df_new.loc[df_new.Neighborhood == 'Not assigned']"
        },
        {
            "cell_type": "code",
            "execution_count": 11,
            "metadata": {},
            "outputs": [
                {
                    "name": "stderr",
                    "output_type": "stream",
                    "text": "/opt/conda/envs/Python36/lib/python3.6/site-packages/pandas/core/generic.py:6586: SettingWithCopyWarning: \nA value is trying to be set on a copy of a slice from a DataFrame\n\nSee the caveats in the documentation: http://pandas.pydata.org/pandas-docs/stable/indexing.html#indexing-view-versus-copy\n  self._update_inplace(new_data)\n"
                },
                {
                    "data": {
                        "text/html": "<div>\n<style scoped>\n    .dataframe tbody tr th:only-of-type {\n        vertical-align: middle;\n    }\n\n    .dataframe tbody tr th {\n        vertical-align: top;\n    }\n\n    .dataframe thead th {\n        text-align: right;\n    }\n</style>\n<table border=\"1\" class=\"dataframe\">\n  <thead>\n    <tr style=\"text-align: right;\">\n      <th></th>\n      <th>Postal code</th>\n      <th>Borough</th>\n      <th>Neighborhood</th>\n    </tr>\n  </thead>\n  <tbody>\n    <tr>\n      <th>2</th>\n      <td>M3A</td>\n      <td>North York</td>\n      <td>Parkwoods</td>\n    </tr>\n    <tr>\n      <th>3</th>\n      <td>M4A</td>\n      <td>North York</td>\n      <td>Victoria Village</td>\n    </tr>\n    <tr>\n      <th>4</th>\n      <td>M5A</td>\n      <td>Downtown Toronto</td>\n      <td>Regent Park / Harbourfront</td>\n    </tr>\n    <tr>\n      <th>5</th>\n      <td>M6A</td>\n      <td>North York</td>\n      <td>Lawrence Manor / Lawrence Heights</td>\n    </tr>\n    <tr>\n      <th>6</th>\n      <td>M7A</td>\n      <td>Downtown Toronto</td>\n      <td>Queen's Park / Ontario Provincial Government</td>\n    </tr>\n    <tr>\n      <th>8</th>\n      <td>M9A</td>\n      <td>Etobicoke</td>\n      <td>Islington Avenue</td>\n    </tr>\n    <tr>\n      <th>9</th>\n      <td>M1B</td>\n      <td>Scarborough</td>\n      <td>Malvern / Rouge</td>\n    </tr>\n    <tr>\n      <th>11</th>\n      <td>M3B</td>\n      <td>North York</td>\n      <td>Don Mills</td>\n    </tr>\n  </tbody>\n</table>\n</div>",
                        "text/plain": "   Postal code           Borough                                  Neighborhood\n2          M3A        North York                                     Parkwoods\n3          M4A        North York                              Victoria Village\n4          M5A  Downtown Toronto                    Regent Park / Harbourfront\n5          M6A        North York             Lawrence Manor / Lawrence Heights\n6          M7A  Downtown Toronto  Queen's Park / Ontario Provincial Government\n8          M9A         Etobicoke                              Islington Avenue\n9          M1B       Scarborough                               Malvern / Rouge\n11         M3B        North York                                     Don Mills"
                    },
                    "execution_count": 11,
                    "metadata": {},
                    "output_type": "execute_result"
                }
            ],
            "source": "df_new.Neighborhood.replace('Not assigned',df_new.Borough,inplace=True)\ndf_new.head(8)"
        },
        {
            "cell_type": "code",
            "execution_count": 13,
            "metadata": {},
            "outputs": [
                {
                    "data": {
                        "text/html": "<div>\n<style scoped>\n    .dataframe tbody tr th:only-of-type {\n        vertical-align: middle;\n    }\n\n    .dataframe tbody tr th {\n        vertical-align: top;\n    }\n\n    .dataframe thead th {\n        text-align: right;\n    }\n</style>\n<table border=\"1\" class=\"dataframe\">\n  <thead>\n    <tr style=\"text-align: right;\">\n      <th></th>\n      <th>Postal code</th>\n      <th>Borough</th>\n      <th>Neighborhood</th>\n    </tr>\n  </thead>\n  <tbody>\n    <tr>\n      <th>0</th>\n      <td>M1B</td>\n      <td>Scarborough</td>\n      <td>Malvern / Rouge</td>\n    </tr>\n    <tr>\n      <th>1</th>\n      <td>M1C</td>\n      <td>Scarborough</td>\n      <td>Rouge Hill / Port Union / Highland Creek</td>\n    </tr>\n    <tr>\n      <th>2</th>\n      <td>M1E</td>\n      <td>Scarborough</td>\n      <td>Guildwood / Morningside / West Hill</td>\n    </tr>\n    <tr>\n      <th>3</th>\n      <td>M1G</td>\n      <td>Scarborough</td>\n      <td>Woburn</td>\n    </tr>\n    <tr>\n      <th>4</th>\n      <td>M1H</td>\n      <td>Scarborough</td>\n      <td>Cedarbrae</td>\n    </tr>\n  </tbody>\n</table>\n</div>",
                        "text/plain": "  Postal code      Borough                              Neighborhood\n0         M1B  Scarborough                           Malvern / Rouge\n1         M1C  Scarborough  Rouge Hill / Port Union / Highland Creek\n2         M1E  Scarborough       Guildwood / Morningside / West Hill\n3         M1G  Scarborough                                    Woburn\n4         M1H  Scarborough                                 Cedarbrae"
                    },
                    "execution_count": 13,
                    "metadata": {},
                    "output_type": "execute_result"
                }
            ],
            "source": "df_toronto = df_new.groupby(['Postal code', 'Borough'])['Neighborhood'].apply(lambda x: ', '.join(x))\ndf_toronto = df_toronto.reset_index()\ndf_toronto.head()"
        },
        {
            "cell_type": "code",
            "execution_count": 14,
            "metadata": {},
            "outputs": [
                {
                    "data": {
                        "text/plain": "(103, 3)"
                    },
                    "execution_count": 14,
                    "metadata": {},
                    "output_type": "execute_result"
                }
            ],
            "source": "df_toronto.shape"
        },
        {
            "cell_type": "code",
            "execution_count": 15,
            "metadata": {},
            "outputs": [
                {
                    "data": {
                        "text/html": "<div>\n<style scoped>\n    .dataframe tbody tr th:only-of-type {\n        vertical-align: middle;\n    }\n\n    .dataframe tbody tr th {\n        vertical-align: top;\n    }\n\n    .dataframe thead th {\n        text-align: right;\n    }\n</style>\n<table border=\"1\" class=\"dataframe\">\n  <thead>\n    <tr style=\"text-align: right;\">\n      <th></th>\n      <th>Postal Code</th>\n      <th>Latitude</th>\n      <th>Longitude</th>\n    </tr>\n  </thead>\n  <tbody>\n    <tr>\n      <th>0</th>\n      <td>M1B</td>\n      <td>43.806686</td>\n      <td>-79.194353</td>\n    </tr>\n    <tr>\n      <th>1</th>\n      <td>M1C</td>\n      <td>43.784535</td>\n      <td>-79.160497</td>\n    </tr>\n    <tr>\n      <th>2</th>\n      <td>M1E</td>\n      <td>43.763573</td>\n      <td>-79.188711</td>\n    </tr>\n    <tr>\n      <th>3</th>\n      <td>M1G</td>\n      <td>43.770992</td>\n      <td>-79.216917</td>\n    </tr>\n    <tr>\n      <th>4</th>\n      <td>M1H</td>\n      <td>43.773136</td>\n      <td>-79.239476</td>\n    </tr>\n  </tbody>\n</table>\n</div>",
                        "text/plain": "  Postal Code   Latitude  Longitude\n0         M1B  43.806686 -79.194353\n1         M1C  43.784535 -79.160497\n2         M1E  43.763573 -79.188711\n3         M1G  43.770992 -79.216917\n4         M1H  43.773136 -79.239476"
                    },
                    "execution_count": 15,
                    "metadata": {},
                    "output_type": "execute_result"
                }
            ],
            "source": "url = 'http://cocl.us/Geospatial_data'\ndf_geo=pd.read_csv(url)\ndf_geo.head()"
        },
        {
            "cell_type": "code",
            "execution_count": 16,
            "metadata": {},
            "outputs": [
                {
                    "data": {
                        "text/plain": "(103, 3)"
                    },
                    "execution_count": 16,
                    "metadata": {},
                    "output_type": "execute_result"
                }
            ],
            "source": "df_geo.shape"
        },
        {
            "cell_type": "code",
            "execution_count": 20,
            "metadata": {},
            "outputs": [
                {
                    "data": {
                        "text/plain": "<bound method NDFrame.head of     Postal code           Borough  \\\n0           M1B       Scarborough   \n1           M1C       Scarborough   \n2           M1E       Scarborough   \n3           M1G       Scarborough   \n4           M1H       Scarborough   \n5           M1J       Scarborough   \n6           M1K       Scarborough   \n7           M1L       Scarborough   \n8           M1M       Scarborough   \n9           M1N       Scarborough   \n10          M1P       Scarborough   \n11          M1R       Scarborough   \n12          M1S       Scarborough   \n13          M1T       Scarborough   \n14          M1V       Scarborough   \n15          M1W       Scarborough   \n16          M1X       Scarborough   \n17          M2H        North York   \n18          M2J        North York   \n19          M2K        North York   \n20          M2L        North York   \n21          M2M        North York   \n22          M2N        North York   \n23          M2P        North York   \n24          M2R        North York   \n25          M3A        North York   \n26          M3B        North York   \n27          M3C        North York   \n28          M3H        North York   \n29          M3J        North York   \n..          ...               ...   \n73          M6C              York   \n74          M6E              York   \n75          M6G  Downtown Toronto   \n76          M6H      West Toronto   \n77          M6J      West Toronto   \n78          M6K      West Toronto   \n79          M6L        North York   \n80          M6M              York   \n81          M6N              York   \n82          M6P      West Toronto   \n83          M6R      West Toronto   \n84          M6S      West Toronto   \n85          M7A  Downtown Toronto   \n86          M7R       Mississauga   \n87          M7Y      East Toronto   \n88          M8V         Etobicoke   \n89          M8W         Etobicoke   \n90          M8X         Etobicoke   \n91          M8Y         Etobicoke   \n92          M8Z         Etobicoke   \n93          M9A         Etobicoke   \n94          M9B         Etobicoke   \n95          M9C         Etobicoke   \n96          M9L        North York   \n97          M9M        North York   \n98          M9N              York   \n99          M9P         Etobicoke   \n100         M9R         Etobicoke   \n101         M9V         Etobicoke   \n102         M9W         Etobicoke   \n\n                                          Neighborhood  Latitude  Longitude  \n0                                      Malvern / Rouge       NaN        NaN  \n1             Rouge Hill / Port Union / Highland Creek       NaN        NaN  \n2                  Guildwood / Morningside / West Hill       NaN        NaN  \n3                                               Woburn       NaN        NaN  \n4                                            Cedarbrae       NaN        NaN  \n5                                  Scarborough Village       NaN        NaN  \n6        Kennedy Park / Ionview / East Birchmount Park       NaN        NaN  \n7                    Golden Mile / Clairlea / Oakridge       NaN        NaN  \n8    Cliffside / Cliffcrest / Scarborough Village West       NaN        NaN  \n9                         Birch Cliff / Cliffside West       NaN        NaN  \n10   Dorset Park / Wexford Heights / Scarborough To...       NaN        NaN  \n11                                  Wexford / Maryvale       NaN        NaN  \n12                                           Agincourt       NaN        NaN  \n13           Clarks Corners / Tam O'Shanter / Sullivan       NaN        NaN  \n14   Milliken / Agincourt North / Steeles East / L'...       NaN        NaN  \n15                      Steeles West / L'Amoreaux West       NaN        NaN  \n16                                         Upper Rouge       NaN        NaN  \n17                                   Hillcrest Village       NaN        NaN  \n18                      Fairview / Henry Farm / Oriole       NaN        NaN  \n19                                     Bayview Village       NaN        NaN  \n20                           York Mills / Silver Hills       NaN        NaN  \n21                            Willowdale / Newtonbrook       NaN        NaN  \n22                                          Willowdale       NaN        NaN  \n23                                     York Mills West       NaN        NaN  \n24                                          Willowdale       NaN        NaN  \n25                                           Parkwoods       NaN        NaN  \n26                                           Don Mills       NaN        NaN  \n27                                           Don Mills       NaN        NaN  \n28   Bathurst Manor / Wilson Heights / Downsview North       NaN        NaN  \n29                    Northwood Park / York University       NaN        NaN  \n..                                                 ...       ...        ...  \n73                                  Humewood-Cedarvale       NaN        NaN  \n74                                 Caledonia-Fairbanks       NaN        NaN  \n75                                            Christie       NaN        NaN  \n76                       Dufferin / Dovercourt Village       NaN        NaN  \n77                           Little Portugal / Trinity       NaN        NaN  \n78      Brockton / Parkdale Village / Exhibition Place       NaN        NaN  \n79          North Park / Maple Leaf Park / Upwood Park       NaN        NaN  \n80   Del Ray / Mount Dennis / Keelsdale and Silvert...       NaN        NaN  \n81                      Runnymede / The Junction North       NaN        NaN  \n82                      High Park / The Junction South       NaN        NaN  \n83                             Parkdale / Roncesvalles       NaN        NaN  \n84                                 Runnymede / Swansea       NaN        NaN  \n85        Queen's Park / Ontario Provincial Government       NaN        NaN  \n86               Canada Post Gateway Processing Centre       NaN        NaN  \n87               Business reply mail Processing CentrE       NaN        NaN  \n88      New Toronto / Mimico South / Humber Bay Shores       NaN        NaN  \n89                             Alderwood / Long Branch       NaN        NaN  \n90     The Kingsway / Montgomery Road / Old Mill North       NaN        NaN  \n91   Old Mill South / King's Mill Park / Sunnylea /...       NaN        NaN  \n92   Mimico NW / The Queensway West / South of Bloo...       NaN        NaN  \n93                                    Islington Avenue       NaN        NaN  \n94   West Deane Park / Princess Gardens / Martin Gr...       NaN        NaN  \n95   Eringate / Bloordale Gardens / Old Burnhamthor...       NaN        NaN  \n96                                       Humber Summit       NaN        NaN  \n97                                   Humberlea / Emery       NaN        NaN  \n98                                              Weston       NaN        NaN  \n99                                           Westmount       NaN        NaN  \n100  Kingsview Village / St. Phillips / Martin Grov...       NaN        NaN  \n101  South Steeles / Silverstone / Humbergate / Jam...       NaN        NaN  \n102                                          Northwest       NaN        NaN  \n\n[103 rows x 5 columns]>"
                    },
                    "execution_count": 20,
                    "metadata": {},
                    "output_type": "execute_result"
                }
            ],
            "source": "df_toronto = df_toronto.join(df_geo.set_index('Postal Code'))\ndf_toronto.head"
        },
        {
            "cell_type": "code",
            "execution_count": null,
            "metadata": {},
            "outputs": [],
            "source": ""
        }
    ],
    "metadata": {
        "kernelspec": {
            "display_name": "Python 3.6",
            "language": "python",
            "name": "python3"
        },
        "language_info": {
            "codemirror_mode": {
                "name": "ipython",
                "version": 3
            },
            "file_extension": ".py",
            "mimetype": "text/x-python",
            "name": "python",
            "nbconvert_exporter": "python",
            "pygments_lexer": "ipython3",
            "version": "3.6.9"
        }
    },
    "nbformat": 4,
    "nbformat_minor": 1
}