{
    "cells": [
        {
            "cell_type": "markdown",
            "metadata": {
                "collapsed": true
            },
            "source": "# IBM - Applied Data Science - Capstone Project"
        },
        {
            "cell_type": "markdown",
            "metadata": {},
            "source": "## Introduction"
        },
        {
            "cell_type": "markdown",
            "metadata": {},
            "source": "#### This is the IBM Applied Data Science Capstone Project Certification Week 4 Assignment.  I am creating a scenario for a concept that there may not be enough Indian Restaurants in Toronto Area. Therefore it might be a great opportunity for a business-man who is new shifted in Canada. As the Indian food is popular among Asian community, so this business-man might think of starting his business in areas where asian community resides. With the purpose in mind, finding the location to open such a restaurant is one of the most important decisions for this person, so this project will help him in understanding the market properly."
        },
        {
            "cell_type": "markdown",
            "metadata": {},
            "source": "## Business Problem\n"
        },
        {
            "cell_type": "markdown",
            "metadata": {},
            "source": "#### The objective of this capstone project is to find the most suitable location for the business man to open a new Indian Restaurant in Toronto,Canada. By using data science methods and tools along with machine learning algorithms such as clustering, this project aims to provide solutions to answer the business question.\n"
        },
        {
            "cell_type": "markdown",
            "metadata": {},
            "source": "## Target Audience"
        },
        {
            "cell_type": "markdown",
            "metadata": {},
            "source": "#### The business people and foodbloggers who are looking for indian restaurants or starting a new restaurant in Toronto"
        },
        {
            "cell_type": "code",
            "execution_count": null,
            "metadata": {},
            "outputs": [],
            "source": ""
        }
    ],
    "metadata": {
        "kernelspec": {
            "display_name": "Python 3.6",
            "language": "python",
            "name": "python3"
        },
        "language_info": {
            "codemirror_mode": {
                "name": "ipython",
                "version": 3
            },
            "file_extension": ".py",
            "mimetype": "text/x-python",
            "name": "python",
            "nbconvert_exporter": "python",
            "pygments_lexer": "ipython3",
            "version": "3.6.9"
        }
    },
    "nbformat": 4,
    "nbformat_minor": 1
}