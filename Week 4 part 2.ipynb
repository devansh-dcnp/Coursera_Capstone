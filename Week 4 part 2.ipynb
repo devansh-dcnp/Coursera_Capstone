{
    "cells": [
        {
            "cell_type": "markdown",
            "metadata": {
                "collapsed": true
            },
            "source": "## Data"
        },
        {
            "cell_type": "markdown",
            "metadata": {},
            "source": "#### To solve this problem, we will need below data:\n#### \u25cf List of neighborhoods in Toronto, Canada\n#### \u25cf Latitude and Longitude of these neighborhoods\n#### \u25cf Venue data related to Indian restaurants. This will help us find theneighborhoods that are more suitable to open an Indian Restaurant."
        },
        {
            "cell_type": "markdown",
            "metadata": {},
            "source": "### Extracting the Data"
        },
        {
            "cell_type": "markdown",
            "metadata": {},
            "source": "#### \u25cf Scrapping of Toronto neighborhoods using Wikipedia portal\n#### \u25cf Getting Latitude and Longitude data of these neighborhoods using Geocoder package\n#### \u25cf Using Foursquare API to get venue data related to these neighborhoods"
        },
        {
            "cell_type": "markdown",
            "metadata": {},
            "source": "# Methodology\n"
        },
        {
            "cell_type": "markdown",
            "metadata": {},
            "source": "####  First, we need the list of neighborhoods in Toronto, Canada. This is possible by extracting the list of neighborhoods from Wikipedia: https://en.wikipedia.org/wiki/List_of_postal_codes_of_Canada:_M I did the web scraping by utilizing pandas HTML table scraping method as it is easier and more convenient to pull tabular data directly from a web page into the data frame.\n\n#### However, it only gives us the list of the neighborhood and postal codes and now we need to get their coordinates using Foursquare Api"
        },
        {
            "cell_type": "markdown",
            "metadata": {},
            "source": "#### From Foursquare, I am able to pull the names, categories, latitude, and longitude of the venues. With this data, I can also check how many unique categories that I can get from these venues. Then, I analyze each neighborhood by grouping the rows by neighborhood and taking the mean on the frequency of occurrence of each venue category. This is to prepare clustering to be done later."
        }
    ],
    "metadata": {
        "kernelspec": {
            "display_name": "Python 3.6",
            "language": "python",
            "name": "python3"
        },
        "language_info": {
            "codemirror_mode": {
                "name": "ipython",
                "version": 3
            },
            "file_extension": ".py",
            "mimetype": "text/x-python",
            "name": "python",
            "nbconvert_exporter": "python",
            "pygments_lexer": "ipython3",
            "version": "3.6.9"
        }
    },
    "nbformat": 4,
    "nbformat_minor": 1
}