{
    "cells": [
        {
            "cell_type": "markdown",
            "metadata": {
                "collapsed": true
            },
            "source": "## Data"
        },
        {
            "cell_type": "markdown",
            "metadata": {},
            "source": "#### To solve this problem, we will need below data:\n#### \u25cf List of neighborhoods in Toronto, Canada\n#### \u25cf Latitude and Longitude of these neighborhoods\n#### \u25cf Venue data related to Indian restaurants. This will help us find theneighborhoods that are more suitable to open an Indian Restaurant."
        },
        {
            "cell_type": "markdown",
            "metadata": {},
            "source": "### Extracting the Data"
        },
        {
            "cell_type": "markdown",
            "metadata": {},
            "source": "#### \u25cf Scrapping of Toronto neighborhoods using Wikipedia portal\n#### \u25cf Getting Latitude and Longitude data of these neighborhoods using Geocoder package\n#### \u25cf Using Foursquare API to get venue data related to these neighborhoods"
        },
        {
            "cell_type": "code",
            "execution_count": null,
            "metadata": {},
            "outputs": [],
            "source": ""
        }
    ],
    "metadata": {
        "kernelspec": {
            "display_name": "Python 3.6",
            "language": "python",
            "name": "python3"
        },
        "language_info": {
            "codemirror_mode": {
                "name": "ipython",
                "version": 3
            },
            "file_extension": ".py",
            "mimetype": "text/x-python",
            "name": "python",
            "nbconvert_exporter": "python",
            "pygments_lexer": "ipython3",
            "version": "3.6.9"
        }
    },
    "nbformat": 4,
    "nbformat_minor": 1
}